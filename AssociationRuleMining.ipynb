{
 "cells": [
  {
   "cell_type": "code",
   "execution_count": 3,
   "id": "45272cf9-1785-4871-ba86-b45fdd257e04",
   "metadata": {},
   "outputs": [
    {
     "name": "stderr",
     "output_type": "stream",
     "text": [
      "C:\\Users\\X1C\\AppData\\Local\\Temp\\ipykernel_9412\\3721146952.py:13: FutureWarning: DataFrame.applymap has been deprecated. Use DataFrame.map instead.\n",
      "  basket = basket.applymap(lambda x: 1 if x > 0 else 0)\n",
      "C:\\Users\\X1C\\AppData\\Local\\Programs\\Python\\Python312\\Lib\\site-packages\\mlxtend\\frequent_patterns\\fpcommon.py:109: DeprecationWarning: DataFrames with non-bool types result in worse computationalperformance and their support might be discontinued in the future.Please use a DataFrame with bool type\n",
      "  warnings.warn(\n"
     ]
    },
    {
     "name": "stdout",
     "output_type": "stream",
     "text": [
      "                                          antecedents  \\\n",
      "2125              (Urad Dal, Moong Dal, Whole Spices)   \n",
      "1548      (Other Dals, Toor Dal, Other Rice Products)   \n",
      "2126                  (Urad Dal, Moong Dal, Toor Dal)   \n",
      "367                           (Boiled Rice, Toor Dal)   \n",
      "1590                 (Raw Rice, Toor Dal, Other Dals)   \n",
      "2123  (Toor Dal, Moong Dal, Whole Spices, Other Dals)   \n",
      "1673               (Raw Rice, Toor Dal, Whole Spices)   \n",
      "601                   (Toor Dal, Other Rice Products)   \n",
      "1666                      (Raw Rice, Toor Dal, Sugar)   \n",
      "1525              (Moong Dal, Toor Dal, Sooji & Rava)   \n",
      "\n",
      "                     consequents  antecedent support  consequent support  \\\n",
      "2125      (Toor Dal, Other Dals)            0.019673            0.074401   \n",
      "1548                  (Urad Dal)            0.015381            0.102659   \n",
      "2126  (Whole Spices, Other Dals)            0.022296            0.079289   \n",
      "367                   (Urad Dal)            0.019316            0.102659   \n",
      "1590                  (Urad Dal)            0.022535            0.102659   \n",
      "2123                  (Urad Dal)            0.018839            0.102659   \n",
      "1673                  (Urad Dal)            0.018719            0.102659   \n",
      "601                   (Urad Dal)            0.024443            0.102659   \n",
      "1666                  (Urad Dal)            0.018958            0.102659   \n",
      "1525                  (Urad Dal)            0.018362            0.102659   \n",
      "\n",
      "       support  confidence      lift  leverage  conviction  zhangs_metric  \n",
      "2125  0.011208    0.569697  7.657129  0.009744    2.151040       0.886850  \n",
      "1548  0.010612    0.689922  6.720534  0.009033    2.893925       0.864499  \n",
      "2126  0.011208    0.502674  6.339737  0.009440    1.851321       0.861472  \n",
      "367   0.012162    0.629630  6.133221  0.010179    2.422821       0.853438  \n",
      "1590  0.013592    0.603175  5.875523  0.011279    2.261300       0.848933  \n",
      "2123  0.011208    0.594937  5.795278  0.009274    2.215311       0.843333  \n",
      "1673  0.011089    0.592357  5.770146  0.009167    2.201290       0.842465  \n",
      "601   0.014189    0.580488  5.654531  0.011679    2.139011       0.843775  \n",
      "1666  0.010731    0.566038  5.513773  0.008785    2.067786       0.834456  \n",
      "1525  0.010373    0.564935  5.503032  0.008488    2.062545       0.833588  \n"
     ]
    }
   ],
   "source": [
    "\n",
    "import pandas as pd\n",
    "from mlxtend.frequent_patterns import apriori, association_rules\n",
    "# from google.colab import files\n",
    "\n",
    "\n",
    "# Load the dataset\n",
    "file_path = r'C:\\Users\\X1C\\Documents\\git\\bigbasket.csv'\n",
    "data = pd.read_csv(file_path)\n",
    "\n",
    "# Convert the data into the appropriate format for association rule mining\n",
    "basket = data.groupby(['Order', 'Description'])['SKU'].count().unstack().reset_index().fillna(0).set_index('Order')\n",
    "basket = basket.applymap(lambda x: 1 if x > 0 else 0)\n",
    "\n",
    "def generate_rules(min_support, min_confidence):\n",
    "    # Generate frequent itemsets\n",
    "    frequent_itemsets = apriori(basket, min_support=min_support, use_colnames=True)\n",
    "\n",
    "    # Generate association rules\n",
    "    rules = association_rules(frequent_itemsets, metric='confidence', min_threshold=min_confidence)\n",
    "\n",
    "    # Sort the rules by lift and get the top 10 rules\n",
    "    top_10_rules = rules.sort_values(by='lift', ascending=False).head(10)\n",
    "    return top_10_rules\n",
    "\n",
    "# Example usage with custom support percentage and confidence score\n",
    "min_support = 0.01 # 1% support\n",
    "min_confidence = 0.5 # 50% confidence\n",
    "\n",
    "top_10_rules = generate_rules(min_support, min_confidence)\n",
    "print(top_10_rules)"
   ]
  }
 ],
 "metadata": {
  "kernelspec": {
   "display_name": "Python 3 (ipykernel)",
   "language": "python",
   "name": "python3"
  },
  "language_info": {
   "codemirror_mode": {
    "name": "ipython",
    "version": 3
   },
   "file_extension": ".py",
   "mimetype": "text/x-python",
   "name": "python",
   "nbconvert_exporter": "python",
   "pygments_lexer": "ipython3",
   "version": "3.12.0"
  }
 },
 "nbformat": 4,
 "nbformat_minor": 5
}
